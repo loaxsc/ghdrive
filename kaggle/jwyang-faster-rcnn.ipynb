{
 "cells": [
  {
   "cell_type": "markdown",
   "metadata": {},
   "source": [
    "# Setup kaggle environment"
   ]
  },
  {
   "cell_type": "code",
   "execution_count": 1,
   "metadata": {
    "execution": {
     "iopub.execute_input": "2021-09-01T07:37:22.841038Z",
     "iopub.status.busy": "2021-09-01T07:37:22.840472Z",
     "iopub.status.idle": "2021-09-01T07:37:27.529253Z",
     "shell.execute_reply": "2021-09-01T07:37:27.528409Z",
     "shell.execute_reply.started": "2021-09-01T07:37:22.840934Z"
    }
   },
   "outputs": [
    {
     "name": "stdout",
     "output_type": "stream",
     "text": [
      "Agent pid 68\n",
      "Identity added: /root/.ssh/id_rsa (loaxsc)\n",
      "Cloning into 'dlml'...\n",
      "remote: Enumerating objects: 136, done.\u001b[K\n",
      "remote: Counting objects: 100% (136/136), done.\u001b[K\n",
      "remote: Compressing objects: 100% (93/93), done.\u001b[K\n",
      "remote: Total 136 (delta 45), reused 98 (delta 21), pack-reused 0\u001b[K\n",
      "Receiving objects: 100% (136/136), 19.54 KiB | 6.51 MiB/s, done.\n",
      "Resolving deltas: 100% (45/45), done.\n"
     ]
    }
   ],
   "source": [
    "import shutil\n",
    "import sys\n",
    "import os\n",
    "\n",
    "( os.remove('/kaggle/bin'), shutil.rmtree('/kaggle/dlml') ) if os.path.exists('/kaggle/bin') else None\n",
    "if not os.path.exists('/kaggle/bin'):\n",
    "    os.environ['PATH'] += ':/kaggle/bin'\n",
    "    sys.path.append('/kaggle/dlml/lib')\n",
    "    \n",
    "    if not os.path.exists('/root/.ssh'):\n",
    "        os.mkdir('/root/.ssh')\n",
    "        shutil.copyfile('/kaggle/input/kaggle-init/config','/root/.ssh/config')\n",
    "\n",
    "    !sh /kaggle/input/kaggle-init/init   # git clone dlml\n",
    "\n",
    "%run -i /kaggle/dlml/init/kaggle_init    # %run 可以不加 .py 後綴； Pure python code\n",
    "!source /kaggle/dlml/init/kaggle_sh_init\n",
    "%rehashx"
   ]
  },
  {
   "cell_type": "code",
   "execution_count": null,
   "metadata": {},
   "outputs": [],
   "source": [
    "exec_bash(\"\"\"\n",
    "mkdir -p /kaggle/dlml/lib\n",
    "mv /kaggle/dlml/ipython_exit.py /kaggle/dlml/lib\n",
    "ls /kaggle/dlml/lib\n",
    "\"\"\")"
   ]
  },
  {
   "cell_type": "markdown",
   "metadata": {},
   "source": [
    "### kaggle-init/init (download dlml)"
   ]
  },
  {
   "cell_type": "markdown",
   "metadata": {},
   "source": [
    "### edit dlml/init/kaggle_sh_init"
   ]
  },
  {
   "cell_type": "code",
   "execution_count": null,
   "metadata": {
    "jupyter": {
     "source_hidden": true
    }
   },
   "outputs": [],
   "source": [
    "%%writefile /kaggle/dlml/init/kaggle_sh_init\n",
    "\n",
    "cp /kaggle/input/kaggle-init/client_secrets.json /bin\n",
    "ln /bin/gd-upload-file /kaggle/dlml/bin/gd-upload-file"
   ]
  },
  {
   "cell_type": "markdown",
   "metadata": {},
   "source": [
    "### edit dlml/init/kaggle_init"
   ]
  },
  {
   "cell_type": "code",
   "execution_count": null,
   "metadata": {
    "jupyter": {
     "source_hidden": true
    }
   },
   "outputs": [],
   "source": [
    "%%writefile /kaggle/dlml/init/kaggle_init\n",
    "#!/bin/python\n",
    "\n",
    "import shutil\n",
    "import os\n",
    "\n",
    "from ipython_exit import exit\n",
    "\n",
    "# get_ipython().run_line_magic('rehashx', '')\n",
    "\n",
    "get_ipython().run_line_magic('alias', 'la ls -AF --color')\n",
    "\n",
    "with open('/kaggle/dlml/init/.shinit','r') as f:\n",
    "    sh_rc = f.read()\n",
    "\n",
    "def exec_bash(code):         # %%bash 的輸出沒有顏色\n",
    "    with open('/dev/shm/xxx___', 'w') as f:\n",
    "        f.write('shopt -s expand_aliases\\n%s' % sh_rc + code)\n",
    "    get_ipython().system('source /dev/shm/xxx___')\n",
    "\n",
    "def exec_sh(code):         # %%bash 的輸出沒有顏色\n",
    "    with open('/dev/shm/xxx___', 'w') as f:\n",
    "        f.write(sh_rc + code)\n",
    "    get_ipython().system('sh /dev/shm/xxx___')\n",
    "    \n",
    "from IPython.display import FileLink\n",
    "def get_file_link(path):\n",
    "    filename = path.split('/')[-1]\n",
    "    abspath = os.path.abspath(path)\n",
    "    if 'working' not in os.path.abspath(abspath):\n",
    "        print('copy to /kaggle/working/%s' % filename)\n",
    "        shutil.copy(abspath, '.') # 無法用 symlink，已測試過\n",
    "        return FileLink(filename)\n",
    "    else:\n",
    "        return FileLink(path)"
   ]
  },
  {
   "cell_type": "markdown",
   "metadata": {
    "heading_collapsed": true
   },
   "source": [
    "### edit dlml/init/.shinit"
   ]
  },
  {
   "cell_type": "code",
   "execution_count": null,
   "metadata": {
    "hidden": true,
    "jupyter": {
     "source_hidden": true
    }
   },
   "outputs": [],
   "source": [
    "%%writefile /kaggle/dlml/init/.shinit\n",
    "\n",
    "alias ls='ls --color=auto'\n",
    "alias grep='grep --color=auto'\n",
    "alias fgrep='fgrep --color=auto'\n",
    "alias egrep='egrep --color=auto'\n",
    "\n",
    "alias ll='ls -alF'\n",
    "alias la='ls -A'\n",
    "alias l='ls -CF'"
   ]
  },
  {
   "cell_type": "code",
   "execution_count": null,
   "metadata": {
    "hidden": true
   },
   "outputs": [],
   "source": [
    "%run -i /kaggle/dlml/init/kaggle_init\n",
    "exec_bash(\"\"\"\n",
    "la /kaggle\n",
    "\"\"\")"
   ]
  },
  {
   "cell_type": "code",
   "execution_count": null,
   "metadata": {
    "execution": {
     "iopub.execute_input": "2021-09-01T07:33:25.436405Z",
     "iopub.status.busy": "2021-09-01T07:33:25.435851Z",
     "iopub.status.idle": "2021-09-01T07:33:27.639657Z",
     "shell.execute_reply": "2021-09-01T07:33:27.638518Z",
     "shell.execute_reply.started": "2021-09-01T07:33:25.436354Z"
    },
    "hidden": true
   },
   "outputs": [],
   "source": [
    "%github-push-kaggle-config-files 'fix kaggle_sh_init error'"
   ]
  },
  {
   "cell_type": "markdown",
   "metadata": {
    "heading_collapsed": true
   },
   "source": [
    "# Install packages"
   ]
  },
  {
   "cell_type": "code",
   "execution_count": null,
   "metadata": {
    "hidden": true,
    "scrolled": true
   },
   "outputs": [],
   "source": [
    "# gdown --id 1amMgpOEIMz_T1D-dPnXgucjhRg8xrEOc\n",
    "# unzip -qu faster-rcnn.pytorch.zip\n",
    "\n",
    "exec_bash(\"\"\"\n",
    "sh /kaggle/input/voc2007/init\n",
    "\n",
    "cd /kaggle\n",
    "echo 'pip install ...'\n",
    "pip install gdown easydict 'git+https://github.com/philferriere/cocoapi.git#subdirectory=PythonAPI'\n",
    "gdown --id 1eSmht15mrqbhPMjLTlxwcSEew2wotpZ3\n",
    "tar -jxf faster-rcnn.pytorch.tar.bz2\n",
    "rm faster-rcnn.pytorch.tar.bz2\n",
    "\n",
    "cd /kaggle/faster-rcnn.pytorch/\n",
    "#pip install -r requirements.txt # install easydict\n",
    "if [ \"$(which nvidia-smi)\" ]; then\n",
    "    cd /kaggle/faster-rcnn.pytorch/lib\n",
    "    python setup.py develop\n",
    "else\n",
    "    echo '\\nNot in GPU mode, exit !'\n",
    "    exit\n",
    "fi\n",
    "\n",
    "cd /kaggle/faster-rcnn.pytorch/\n",
    "mkdir -p data data/VOCdevkit2007 data/pretrained_model\n",
    "ln -snf /kaggle/VOC2007 data/VOCdevkit2007/VOC2007\n",
    "ln -snf /kaggle/working models\n",
    "\n",
    "cd data/pretrained_model/\n",
    "ln -snf /kaggle/input/od-models/resnet101_caffe.pth resnet101_caffe.pth\n",
    "ln -snf /kaggle/input/vgg16-caffe/vgg16_caffe.pth vgg16_caffe.pth\n",
    "\"\"\")\n",
    "\n",
    "# copying build/lib.linux-x86_64-3.7/model/_C.cpython-37m-x86_64-linux-gnu.so -> model\n",
    "# Creating /opt/conda/lib/python3.7/site-packages/faster-rcnn.egg-link (link to .)\n",
    "# Adding faster-rcnn 0.1 to easy-install.pth file\n",
    "\n",
    "# Installed /kaggle/faster-rcnn.pytorch/lib\n",
    "# Processing dependencies for faster-rcnn==0.1\n",
    "# Finished processing dependencies for faster-rcnn==0.1"
   ]
  },
  {
   "cell_type": "code",
   "execution_count": null,
   "metadata": {
    "hidden": true,
    "scrolled": true
   },
   "outputs": [],
   "source": [
    "# error in _mask\n",
    "# data/cache/*.pkl\n",
    "exec_bash(\"\"\"\n",
    "cd /kaggle/faster-rcnn.pytorch\n",
    "python trainval_net.py \\\n",
    "            --dataset pascal_voc --net res101  \\\n",
    "            --bs 4 \\\n",
    "            --lr \"4e-3\" --lr_decay_step 8 \\\n",
    "            --cuda --epochs 1\n",
    "\"\"\")"
   ]
  },
  {
   "cell_type": "code",
   "execution_count": null,
   "metadata": {
    "hidden": true
   },
   "outputs": [],
   "source": [
    "exec_bash(\"\"\"\n",
    "cd /kaggle\n",
    "tar -jcf faster-rcnn.pytorch.tar.bz2 faster-rcnn.pytorch\n",
    "\"\"\")\n",
    "get_file_link('/kaggle/faster-rcnn.pytorch.tar.bz2')"
   ]
  }
 ],
 "metadata": {
  "kernelspec": {
   "display_name": "Python 3",
   "language": "python",
   "name": "python3"
  },
  "language_info": {
   "codemirror_mode": {
    "name": "ipython",
    "version": 3
   },
   "file_extension": ".py",
   "mimetype": "text/x-python",
   "name": "python",
   "nbconvert_exporter": "python",
   "pygments_lexer": "ipython3",
   "version": "3.8.10"
  },
  "toc": {
   "base_numbering": 1,
   "nav_menu": {},
   "number_sections": false,
   "sideBar": true,
   "skip_h1_title": false,
   "title_cell": "Table of Contents",
   "title_sidebar": "Contents",
   "toc_cell": false,
   "toc_position": {
    "height": "calc(100% - 180px)",
    "left": "10px",
    "top": "150px",
    "width": "348px"
   },
   "toc_section_display": true,
   "toc_window_display": true
  }
 },
 "nbformat": 4,
 "nbformat_minor": 4
}
